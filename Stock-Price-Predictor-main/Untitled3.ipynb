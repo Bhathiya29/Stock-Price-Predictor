{
 "cells": [
  {
   "cell_type": "code",
   "execution_count": 1,
   "id": "4ed08879",
   "metadata": {},
   "outputs": [
    {
     "name": "stdout",
     "output_type": "stream",
     "text": [
      "Collecting yfinance\n",
      "  Downloading yfinance-0.1.70-py2.py3-none-any.whl (26 kB)\n",
      "Requirement already satisfied: requests>=2.26 in c:\\users\\bhath\\anaconda3\\lib\\site-packages (from yfinance) (2.26.0)\n",
      "Requirement already satisfied: numpy>=1.15 in c:\\users\\bhath\\anaconda3\\lib\\site-packages (from yfinance) (1.20.3)\n",
      "Collecting multitasking>=0.0.7\n",
      "  Downloading multitasking-0.0.10.tar.gz (8.2 kB)\n",
      "Requirement already satisfied: lxml>=4.5.1 in c:\\users\\bhath\\anaconda3\\lib\\site-packages (from yfinance) (4.6.3)\n",
      "Requirement already satisfied: pandas>=0.24.0 in c:\\users\\bhath\\anaconda3\\lib\\site-packages (from yfinance) (1.3.4)\n",
      "Requirement already satisfied: pytz>=2017.3 in c:\\users\\bhath\\anaconda3\\lib\\site-packages (from pandas>=0.24.0->yfinance) (2021.3)\n",
      "Requirement already satisfied: python-dateutil>=2.7.3 in c:\\users\\bhath\\anaconda3\\lib\\site-packages (from pandas>=0.24.0->yfinance) (2.8.2)\n",
      "Requirement already satisfied: six>=1.5 in c:\\users\\bhath\\anaconda3\\lib\\site-packages (from python-dateutil>=2.7.3->pandas>=0.24.0->yfinance) (1.16.0)\n",
      "Requirement already satisfied: charset-normalizer~=2.0.0 in c:\\users\\bhath\\anaconda3\\lib\\site-packages (from requests>=2.26->yfinance) (2.0.4)\n",
      "Requirement already satisfied: urllib3<1.27,>=1.21.1 in c:\\users\\bhath\\anaconda3\\lib\\site-packages (from requests>=2.26->yfinance) (1.26.7)\n",
      "Requirement already satisfied: idna<4,>=2.5 in c:\\users\\bhath\\anaconda3\\lib\\site-packages (from requests>=2.26->yfinance) (3.2)\n",
      "Requirement already satisfied: certifi>=2017.4.17 in c:\\users\\bhath\\anaconda3\\lib\\site-packages (from requests>=2.26->yfinance) (2021.10.8)\n",
      "Building wheels for collected packages: multitasking\n",
      "  Building wheel for multitasking (setup.py): started\n",
      "  Building wheel for multitasking (setup.py): finished with status 'done'\n",
      "  Created wheel for multitasking: filename=multitasking-0.0.10-py3-none-any.whl size=8500 sha256=1c1a858375d423a720c046d8169349e88b3e8b30d017ac5c9be6528f43e852a0\n",
      "  Stored in directory: c:\\users\\bhath\\appdata\\local\\pip\\cache\\wheels\\f2\\b5\\2c\\59ba95dcf854e542944c75fe3da584e4e3833b319735a0546c\n",
      "Successfully built multitasking\n",
      "Installing collected packages: multitasking, yfinance\n",
      "Successfully installed multitasking-0.0.10 yfinance-0.1.70\n",
      "Note: you may need to restart the kernel to use updated packages.\n"
     ]
    }
   ],
   "source": [
    "pip install yfinance"
   ]
  },
  {
   "cell_type": "code",
   "execution_count": 2,
   "id": "8f4da367",
   "metadata": {},
   "outputs": [],
   "source": [
    "import numpy as np\n",
    "import pandas as pd\n",
    "\n",
    "import yfinance as yf\n",
    "\n",
    "import matplotlib.pyplot as plt\n",
    "import seaborn as sns\n",
    "%matplotlib inline"
   ]
  },
  {
   "cell_type": "code",
   "execution_count": 3,
   "id": "f21c8684",
   "metadata": {},
   "outputs": [
    {
     "name": "stdout",
     "output_type": "stream",
     "text": [
      "Enter the code of the stock:- NG=F\n",
      "[*********************100%***********************]  1 of 1 completed\n"
     ]
    },
    {
     "data": {
      "text/html": [
       "<div>\n",
       "<style scoped>\n",
       "    .dataframe tbody tr th:only-of-type {\n",
       "        vertical-align: middle;\n",
       "    }\n",
       "\n",
       "    .dataframe tbody tr th {\n",
       "        vertical-align: top;\n",
       "    }\n",
       "\n",
       "    .dataframe thead th {\n",
       "        text-align: right;\n",
       "    }\n",
       "</style>\n",
       "<table border=\"1\" class=\"dataframe\">\n",
       "  <thead>\n",
       "    <tr style=\"text-align: right;\">\n",
       "      <th></th>\n",
       "      <th>Open</th>\n",
       "      <th>High</th>\n",
       "      <th>Low</th>\n",
       "      <th>Close</th>\n",
       "      <th>Adj Close</th>\n",
       "      <th>Volume</th>\n",
       "    </tr>\n",
       "    <tr>\n",
       "      <th>Date</th>\n",
       "      <th></th>\n",
       "      <th></th>\n",
       "      <th></th>\n",
       "      <th></th>\n",
       "      <th></th>\n",
       "      <th></th>\n",
       "    </tr>\n",
       "  </thead>\n",
       "  <tbody>\n",
       "    <tr>\n",
       "      <th>2007-12-31</th>\n",
       "      <td>7.349</td>\n",
       "      <td>7.540</td>\n",
       "      <td>7.283</td>\n",
       "      <td>7.483</td>\n",
       "      <td>7.483</td>\n",
       "      <td>27299</td>\n",
       "    </tr>\n",
       "    <tr>\n",
       "      <th>2008-01-02</th>\n",
       "      <td>7.572</td>\n",
       "      <td>7.876</td>\n",
       "      <td>7.564</td>\n",
       "      <td>7.850</td>\n",
       "      <td>7.850</td>\n",
       "      <td>68553</td>\n",
       "    </tr>\n",
       "    <tr>\n",
       "      <th>2008-01-03</th>\n",
       "      <td>7.873</td>\n",
       "      <td>7.980</td>\n",
       "      <td>7.610</td>\n",
       "      <td>7.674</td>\n",
       "      <td>7.674</td>\n",
       "      <td>72742</td>\n",
       "    </tr>\n",
       "    <tr>\n",
       "      <th>2008-01-04</th>\n",
       "      <td>7.652</td>\n",
       "      <td>7.859</td>\n",
       "      <td>7.500</td>\n",
       "      <td>7.841</td>\n",
       "      <td>7.841</td>\n",
       "      <td>61496</td>\n",
       "    </tr>\n",
       "    <tr>\n",
       "      <th>2008-01-07</th>\n",
       "      <td>7.803</td>\n",
       "      <td>7.940</td>\n",
       "      <td>7.701</td>\n",
       "      <td>7.879</td>\n",
       "      <td>7.879</td>\n",
       "      <td>56675</td>\n",
       "    </tr>\n",
       "  </tbody>\n",
       "</table>\n",
       "</div>"
      ],
      "text/plain": [
       "             Open   High    Low  Close  Adj Close  Volume\n",
       "Date                                                     \n",
       "2007-12-31  7.349  7.540  7.283  7.483      7.483   27299\n",
       "2008-01-02  7.572  7.876  7.564  7.850      7.850   68553\n",
       "2008-01-03  7.873  7.980  7.610  7.674      7.674   72742\n",
       "2008-01-04  7.652  7.859  7.500  7.841      7.841   61496\n",
       "2008-01-07  7.803  7.940  7.701  7.879      7.879   56675"
      ]
     },
     "execution_count": 3,
     "metadata": {},
     "output_type": "execute_result"
    }
   ],
   "source": [
    "stocks=input(\"Enter the code of the stock:- \")\n",
    "data=yf.download(stocks,\"2008-01-01\",\"2021-01-18\")\n",
    "data.head()"
   ]
  },
  {
   "cell_type": "code",
   "execution_count": 4,
   "id": "ba3f8739",
   "metadata": {},
   "outputs": [
    {
     "data": {
      "text/plain": [
       "(3283, 6)"
      ]
     },
     "execution_count": 4,
     "metadata": {},
     "output_type": "execute_result"
    }
   ],
   "source": [
    "data.shape"
   ]
  },
  {
   "cell_type": "code",
   "execution_count": 5,
   "id": "e06dfba6",
   "metadata": {},
   "outputs": [
    {
     "data": {
      "text/plain": [
       "<bound method DataFrame.info of              Open   High    Low  Close  Adj Close  Volume\n",
       "Date                                                     \n",
       "2007-12-31  7.349  7.540  7.283  7.483      7.483   27299\n",
       "2008-01-02  7.572  7.876  7.564  7.850      7.850   68553\n",
       "2008-01-03  7.873  7.980  7.610  7.674      7.674   72742\n",
       "2008-01-04  7.652  7.859  7.500  7.841      7.841   61496\n",
       "2008-01-07  7.803  7.940  7.701  7.879      7.879   56675\n",
       "...           ...    ...    ...    ...        ...     ...\n",
       "2021-01-11  2.600  2.811  2.589  2.747      2.747  177248\n",
       "2021-01-12  2.794  2.899  2.718  2.753      2.753  201432\n",
       "2021-01-13  2.737  2.826  2.708  2.727      2.727  169240\n",
       "2021-01-14  2.742  2.791  2.660  2.666      2.666  163043\n",
       "2021-01-15  2.672  2.800  2.636  2.737      2.737  150994\n",
       "\n",
       "[3283 rows x 6 columns]>"
      ]
     },
     "execution_count": 5,
     "metadata": {},
     "output_type": "execute_result"
    }
   ],
   "source": [
    "data.info"
   ]
  },
  {
   "cell_type": "code",
   "execution_count": 6,
   "id": "c098764b",
   "metadata": {},
   "outputs": [
    {
     "data": {
      "text/html": [
       "<div>\n",
       "<style scoped>\n",
       "    .dataframe tbody tr th:only-of-type {\n",
       "        vertical-align: middle;\n",
       "    }\n",
       "\n",
       "    .dataframe tbody tr th {\n",
       "        vertical-align: top;\n",
       "    }\n",
       "\n",
       "    .dataframe thead th {\n",
       "        text-align: right;\n",
       "    }\n",
       "</style>\n",
       "<table border=\"1\" class=\"dataframe\">\n",
       "  <thead>\n",
       "    <tr style=\"text-align: right;\">\n",
       "      <th></th>\n",
       "      <th>Open</th>\n",
       "      <th>High</th>\n",
       "      <th>Low</th>\n",
       "      <th>Close</th>\n",
       "      <th>Adj Close</th>\n",
       "      <th>Volume</th>\n",
       "    </tr>\n",
       "  </thead>\n",
       "  <tbody>\n",
       "    <tr>\n",
       "      <th>count</th>\n",
       "      <td>3283.000000</td>\n",
       "      <td>3283.000000</td>\n",
       "      <td>3283.000000</td>\n",
       "      <td>3283.000000</td>\n",
       "      <td>3283.000000</td>\n",
       "      <td>3283.000000</td>\n",
       "    </tr>\n",
       "    <tr>\n",
       "      <th>mean</th>\n",
       "      <td>3.714812</td>\n",
       "      <td>3.788431</td>\n",
       "      <td>3.636149</td>\n",
       "      <td>3.708224</td>\n",
       "      <td>3.708224</td>\n",
       "      <td>131365.895218</td>\n",
       "    </tr>\n",
       "    <tr>\n",
       "      <th>std</th>\n",
       "      <td>1.831245</td>\n",
       "      <td>1.866609</td>\n",
       "      <td>1.790444</td>\n",
       "      <td>1.826208</td>\n",
       "      <td>1.826208</td>\n",
       "      <td>54415.091229</td>\n",
       "    </tr>\n",
       "    <tr>\n",
       "      <th>min</th>\n",
       "      <td>1.441000</td>\n",
       "      <td>1.567000</td>\n",
       "      <td>1.432000</td>\n",
       "      <td>1.482000</td>\n",
       "      <td>1.482000</td>\n",
       "      <td>0.000000</td>\n",
       "    </tr>\n",
       "    <tr>\n",
       "      <th>25%</th>\n",
       "      <td>2.691500</td>\n",
       "      <td>2.737000</td>\n",
       "      <td>2.644000</td>\n",
       "      <td>2.693000</td>\n",
       "      <td>2.693000</td>\n",
       "      <td>91735.000000</td>\n",
       "    </tr>\n",
       "    <tr>\n",
       "      <th>50%</th>\n",
       "      <td>3.253000</td>\n",
       "      <td>3.313000</td>\n",
       "      <td>3.184000</td>\n",
       "      <td>3.242000</td>\n",
       "      <td>3.242000</td>\n",
       "      <td>126609.000000</td>\n",
       "    </tr>\n",
       "    <tr>\n",
       "      <th>75%</th>\n",
       "      <td>4.158500</td>\n",
       "      <td>4.245000</td>\n",
       "      <td>4.068000</td>\n",
       "      <td>4.153000</td>\n",
       "      <td>4.153000</td>\n",
       "      <td>161479.000000</td>\n",
       "    </tr>\n",
       "    <tr>\n",
       "      <th>max</th>\n",
       "      <td>13.580000</td>\n",
       "      <td>13.694000</td>\n",
       "      <td>13.306000</td>\n",
       "      <td>13.577000</td>\n",
       "      <td>13.577000</td>\n",
       "      <td>459196.000000</td>\n",
       "    </tr>\n",
       "  </tbody>\n",
       "</table>\n",
       "</div>"
      ],
      "text/plain": [
       "              Open         High          Low        Close    Adj Close  \\\n",
       "count  3283.000000  3283.000000  3283.000000  3283.000000  3283.000000   \n",
       "mean      3.714812     3.788431     3.636149     3.708224     3.708224   \n",
       "std       1.831245     1.866609     1.790444     1.826208     1.826208   \n",
       "min       1.441000     1.567000     1.432000     1.482000     1.482000   \n",
       "25%       2.691500     2.737000     2.644000     2.693000     2.693000   \n",
       "50%       3.253000     3.313000     3.184000     3.242000     3.242000   \n",
       "75%       4.158500     4.245000     4.068000     4.153000     4.153000   \n",
       "max      13.580000    13.694000    13.306000    13.577000    13.577000   \n",
       "\n",
       "              Volume  \n",
       "count    3283.000000  \n",
       "mean   131365.895218  \n",
       "std     54415.091229  \n",
       "min         0.000000  \n",
       "25%     91735.000000  \n",
       "50%    126609.000000  \n",
       "75%    161479.000000  \n",
       "max    459196.000000  "
      ]
     },
     "execution_count": 6,
     "metadata": {},
     "output_type": "execute_result"
    }
   ],
   "source": [
    "data.describe()"
   ]
  },
  {
   "cell_type": "code",
   "execution_count": 8,
   "id": "b522fbff",
   "metadata": {},
   "outputs": [
    {
     "data": {
      "text/plain": [
       "<AxesSubplot:xlabel='Date'>"
      ]
     },
     "execution_count": 8,
     "metadata": {},
     "output_type": "execute_result"
    },
    {
     "data": {
      "image/png": "[encoded data removed]",
      "text/plain": [
       "<Figure size 720x504 with 1 Axes>"
      ]
     },
     "metadata": {
      "needs_background": "light"
     },
     "output_type": "display_data"
    }
   ],
   "source": [
    "data.Close.plot(figsize=(10,7))"
   ]
  },
  {
   "cell_type": "code",
   "execution_count": 9,
   "id": "8310d2a5",
   "metadata": {},
   "outputs": [
    {
     "data": {
      "text/plain": [
       "<seaborn.axisgrid.FacetGrid at 0x2bf73cc1100>"
      ]
     },
     "execution_count": 9,
     "metadata": {},
     "output_type": "execute_result"
    },
    {
     "data": {
      "image/png": "[encoded data removed]",
      "text/plain": [
       "<Figure size 360x360 with 1 Axes>"
      ]
     },
     "metadata": {
      "needs_background": "light"
     },
     "output_type": "display_data"
    }
   ],
   "source": [
    "sns.displot(data[\"Close\"])"
   ]
  },
  {
   "cell_type": "code",
   "execution_count": 11,
   "id": "a7167330",
   "metadata": {},
   "outputs": [
    {
     "name": "stdout",
     "output_type": "stream",
     "text": [
      "(2626, 5)\n",
      "(657, 5)\n",
      "(2626,)\n",
      "(657,)\n"
     ]
    }
   ],
   "source": [
    "X=data.drop(\"Close\",axis=1)\n",
    "y=data[\"Close\"]\n",
    "\n",
    "from sklearn.model_selection import train_test_split\n",
    "\n",
    "X_train,X_test,y_train,y_test=train_test_split(X,y,test_size=0.2,random_state=0)\n",
    "print(X_train.shape)\n",
    "print(X_test.shape)\n",
    "print(y_train.shape)\n",
    "print(y_test.shape)"
   ]
  },
  {
   "cell_type": "code",
   "execution_count": 12,
   "id": "24d10084",
   "metadata": {},
   "outputs": [],
   "source": [
    "from sklearn.linear_model import LinearRegression\n",
    "\n",
    "lr=LinearRegression()\n",
    "lr.fit(X_train,y_train)\n",
    "pred1=lr.predict(X_test)"
   ]
  },
  {
   "cell_type": "code",
   "execution_count": 14,
   "id": "b6f24f2f",
   "metadata": {},
   "outputs": [
    {
     "data": {
      "text/plain": [
       "array([ 2.68199992,  5.71500015,  2.66199994,  5.64300013,  3.78900003,\n",
       "       13.21000004,  3.98799992,  1.84399998,  1.78199995,  1.94000006,\n",
       "        2.47600007,  3.28699994,  2.8829999 ,  2.96099997,  4.17399979,\n",
       "        2.61599994,  3.46000004,  2.71600008,  8.97700024,  3.60899997,\n",
       "        1.78799999,  2.67499995,  2.53500009,  2.9059999 ,  2.38700008,\n",
       "        3.21799994,  3.70600009,  3.87199998,  2.89400005,  1.83399999,\n",
       "        3.99099994,  2.97399998, 11.42199993,  4.36999989,  4.4289999 ,\n",
       "        2.68400002,  3.49900007,  5.41900015,  3.79999995,  3.43600011,\n",
       "        3.96300006,  2.71700001,  1.93900001,  2.57999992,  1.89400005,\n",
       "        1.74600005,  4.22800016,  2.95900011,  3.85700011,  2.03900003,\n",
       "        4.15199995,  3.56900001,  2.46199989,  4.09000015,  1.90699995,\n",
       "        3.23000002,  4.53000021,  4.99700022,  1.83500004,  3.3210001 ,\n",
       "        2.87899995,  4.01900005,  4.8130002 ,  2.64299989,  4.83099985,\n",
       "        2.22799993,  4.35699987,  3.08800006,  2.81999993,  2.08299994,\n",
       "        4.78100014,  2.73399997,  1.847     ,  3.46300006,  8.1960001 ,\n",
       "        3.29200006,  4.70100021,  4.38700008,  3.92000008,  1.77199996,\n",
       "        3.0079999 ,  2.18199992,  7.73999977,  3.34699988,  2.70900011,\n",
       "        2.5250001 ,  2.94000006,  3.73300004,  4.36999989,  2.55200005,\n",
       "        3.76200008, 12.86100006,  3.45499992,  3.67000008,  3.83100009,\n",
       "        2.95099998,  4.31099987,  3.01699996,  2.81599998,  3.02800012,\n",
       "        2.81200004,  3.64700007,  3.91000009,  2.94499993,  3.12800002,\n",
       "        3.02099991,  2.59699988,  2.85899997,  2.91899991,  3.91000009,\n",
       "        6.51599979,  3.75900006,  3.58899999,  3.06299996,  1.92400002,\n",
       "        4.70800018,  4.0619998 ,  2.73699999,  3.50900006,  3.27900004,\n",
       "        2.91700006,  5.39599991,  2.53800011,  2.60800004,  2.94400001,\n",
       "        2.16899991,  4.69999981,  4.84299994,  4.34000015,  4.046     ,\n",
       "        3.31999993,  6.82499981,  4.39499998,  4.28900003,  3.58100009,\n",
       "        3.08100009,  3.96199989,  3.6170001 ,  1.995     ,  3.99499989,\n",
       "        3.18499994,  3.09699988,  5.76800013,  2.79200006,  2.84200001,\n",
       "        1.71000004,  4.68900013,  3.55900002,  2.96399999,  2.65899992,\n",
       "        5.04500008,  2.9230001 ,  2.15799999,  4.45499992,  1.77400005,\n",
       "        3.82200003,  2.87100005,  2.9519999 ,  4.59800005,  3.50300002,\n",
       "        4.37400007,  2.21799994,  2.296     ,  4.28200006,  3.27600002,\n",
       "        4.09600019,  3.68000007,  1.954     ,  7.24800014,  2.9059999 ,\n",
       "        3.15199995,  2.84599996,  2.95499992,  3.23200011,  3.74900007,\n",
       "        1.71099997,  3.73099995,  3.2190001 ,  2.477     ,  8.38799953,\n",
       "        2.8499999 ,  2.74099994,  2.69099998,  4.59299994,  3.97600007,\n",
       "        4.01900005,  1.72300005,  2.93899989,  2.91499996,  9.38899994,\n",
       "        3.74300003,  2.773     ,  2.72600007,  2.72199988,  2.14700007,\n",
       "        7.3579998 ,  3.86999989,  4.67399979,  2.78600001,  3.91400003,\n",
       "        2.76399994,  5.58799982,  3.48699999,  4.06599998,  2.9289999 ,\n",
       "        3.46399999,  2.62700009,  5.454     ,  4.30600023,  3.98099995,\n",
       "        4.48500013,  3.78900003,  3.55299997,  3.50699997,  3.30299997,\n",
       "        4.30800009,  3.55800009,  2.66000009,  3.18199992,  5.49599981,\n",
       "        3.62899995,  3.15799999,  3.86500001,  3.16300011,  4.40700006,\n",
       "        2.91799998,  5.11399984,  2.8900001 ,  4.39900017,  3.23000002,\n",
       "        4.1079998 ,  3.12700009,  4.59700012,  3.102     ,  4.579     ,\n",
       "        3.91899991,  4.09000015,  1.76699996,  2.24399996,  2.5769999 ,\n",
       "        4.19799995,  5.19199991,  3.76799989,  2.05500007,  2.0480001 ,\n",
       "        4.0170002 ,  3.12700009,  4.32299995,  2.27900004,  4.31599998,\n",
       "        4.73899984,  2.91400003,  3.31500006,  3.71099997,  2.10100007,\n",
       "        2.88100004,  3.99399996,  6.34700012,  3.31699991,  3.87100005,\n",
       "        2.91799998,  2.80500007,  4.12799978,  4.25600004,  8.45600033,\n",
       "        6.7420001 ,  2.55200005, 13.19799995,  2.51699996,  4.06500006,\n",
       "        2.28699994,  4.03000021,  3.78200006,  2.81200004,  3.84699988,\n",
       "       11.70300007,  3.75099993,  3.83200002,  4.46899986,  2.77999997,\n",
       "        3.29699993,  3.92700005,  3.94700003,  2.97600007, 10.05300045,\n",
       "        2.75500011,  2.4000001 ,  4.05600023,  3.6960001 ,  3.15499997,\n",
       "        3.34899998,  4.27400017,  4.34700012,  2.28600001,  2.98399997,\n",
       "        4.40199995,  3.59100008,  5.72200012,  7.26100016,  2.71499991,\n",
       "        2.43099999,  2.56699991,  3.46099997,  4.40199995,  2.32299995,\n",
       "        1.85399997,  8.93000031,  2.125     ,  3.11400008,  2.54299998,\n",
       "        2.53399992,  2.71300006,  2.11800003,  2.02900004,  2.94799995,\n",
       "        3.96199989,  3.0079999 ,  6.43100023,  3.93700004,  2.31800008,\n",
       "        4.08799982,  1.926     ,  2.79699993,  3.45799994,  3.62800002,\n",
       "        2.25300002,  3.69000006,  3.82299995,  3.61500001,  7.8499999 ,\n",
       "        3.96600008,  2.15799999,  2.81599998,  5.62200022,  2.8210001 ,\n",
       "        4.84800005,  4.23699999,  2.86999989,  4.19899988,  1.972     ,\n",
       "        3.68400002,  2.33899999,  4.07000017,  2.96799994,  4.36999989,\n",
       "        4.48400021,  2.21399999,  4.82399988,  2.41599989,  1.94400001,\n",
       "        2.88400006,  4.54799986,  3.58100009,  3.80200005,  4.61899996,\n",
       "        4.40500021,  2.64899993,  2.74699998,  1.68599999,  2.63199997,\n",
       "        4.78100014,  2.18600011,  3.40899992,  2.9920001 ,  2.77099991,\n",
       "        7.9829998 ,  4.31799984,  6.48000002,  2.82299995,  3.02999997,\n",
       "        3.65300012, 10.01099968,  4.23899984,  2.93899989,  4.77400017,\n",
       "        2.7349999 ,  4.16699982,  4.53000021,  2.47399998,  2.9289999 ,\n",
       "        4.02299976,  2.93799996,  3.43499994,  2.31999993,  3.97300005,\n",
       "        4.23600006,  2.56599998,  4.51300001,  2.26699996,  4.48099995,\n",
       "        2.7019999 ,  2.99000001,  2.16599989,  1.79400003,  3.03500009,\n",
       "        2.91400003,  4.69299984,  2.94099998,  1.79900002,  3.81599998,\n",
       "        3.12800002,  3.20000005,  2.80999994,  3.23000002,  3.6170001 ,\n",
       "        4.37099981,  3.13599992,  2.50999999,  3.75699997,  4.48600006,\n",
       "        2.68199992,  2.95600009,  2.84299994,  7.86899996,  3.53699994,\n",
       "        2.87100005,  3.94400001,  4.92199993,  2.15799999,  3.39199996,\n",
       "        3.00699997,  2.68499994, 10.56999969,  3.7190001 ,  2.36400008,\n",
       "        5.85900021,  6.78599977,  4.34200001,  2.90700006,  2.23399997,\n",
       "        4.41800022,  7.87900019,  3.62299991,  2.6329999 ,  2.65700006,\n",
       "        6.75699997,  2.58200002,  2.78200006,  3.44400001,  3.6170001 ,\n",
       "        2.69700003,  2.73699999,  2.66400003,  7.53100014,  2.85899997,\n",
       "        1.91999996,  4.81599998,  3.60500002,  2.51999998,  2.89299989,\n",
       "        2.62599993,  2.6500001 ,  2.71499991,  3.70000005,  3.95099998,\n",
       "        3.9849999 ,  4.01300001,  2.90799999,  2.84100008,  1.98399997,\n",
       "        3.8599999 ,  2.14899993,  3.57500005,  2.87700009,  3.93099999,\n",
       "        2.67499995,  2.46700001,  2.68400002,  2.58599997,  2.88899994,\n",
       "        2.57500005,  3.26300001,  2.77200007,  2.30599999,  2.06299996,\n",
       "        2.50200009,  3.05900002,  3.87599993,  7.4380002 ,  3.93199992,\n",
       "        2.73300004,  5.04400015,  1.81299996,  3.18400002,  4.67000008,\n",
       "        1.71099997,  1.63800001,  3.70499992,  3.36800003,  4.3039999 ,\n",
       "        3.93199992,  4.61999989,  2.71499991,  2.74699998,  2.70499992,\n",
       "        2.79500008,  5.18900013,  1.62100005,  2.7980001 ,  2.61199999,\n",
       "        5.73699999,  9.90100002,  3.91100001,  2.76699996,  1.86199999,\n",
       "        4.27600002,  3.88899994,  7.62099981,  2.01600003,  2.38599992,\n",
       "        4.04099989,  7.27899981,  3.03999996,  2.94300008,  3.954     ,\n",
       "        2.30800009,  1.99000001,  3.87700009,  2.75900006,  3.16300011,\n",
       "        2.64299989,  3.48099995,  3.55500007,  3.80100012,  2.6170001 ,\n",
       "        2.25600004,  4.08599997,  2.12199998,  1.82200003,  1.75600004,\n",
       "        2.20799994,  3.3269999 ,  2.61899996,  3.18899989,  2.82800007,\n",
       "        4.66200018,  2.63899994,  3.53399992,  4.4000001 ,  2.62299991,\n",
       "        2.81399989,  5.28999996,  3.54200006,  2.78299999,  4.51000023,\n",
       "        3.53500009,  3.27200007,  4.25699997,  3.29299998,  3.78299999,\n",
       "        4.56699991,  4.079     ,  2.74900007,  5.38600016,  2.47000003,\n",
       "        2.45499992,  3.37299991,  2.03600001,  3.65400004,  2.98900008,\n",
       "        8.35299969,  2.62100005,  2.7579999 ,  1.65900004,  3.41199994,\n",
       "       10.09799957,  1.66600001,  8.43599987,  1.67499995,  3.41799998,\n",
       "        4.13899994,  4.32499981,  3.22399998,  2.50900006,  2.77699995,\n",
       "        2.93799996,  5.51599979,  1.77900004,  2.28399992,  2.773     ,\n",
       "        4.35699987,  2.0309999 ,  2.81399989,  3.648     ,  2.90799999,\n",
       "        2.73399997,  3.82800007,  1.70799994,  3.05200005,  4.81500006,\n",
       "        2.69799995,  3.6789999 ,  4.57499981,  2.23000002,  6.88800001,\n",
       "        3.80900002,  2.79399991,  3.19799995,  3.37599993,  3.87700009,\n",
       "        2.0150001 ,  6.0170002 ,  1.98300004,  4.00699997,  2.18899989,\n",
       "        3.648     ,  1.93599999,  2.56100011, 10.5369997 ,  2.07599998,\n",
       "        3.40300012,  4.90399981,  3.9000001 ,  4.03900003,  1.80599999,\n",
       "        5.40100002,  5.54799986,  1.852     ,  5.64499998,  2.94000006,\n",
       "        3.88199997,  1.86899996,  2.67400002,  2.65499997,  1.99199998,\n",
       "        3.56699991,  2.27399993,  1.86099994,  2.83599997,  4.1329999 ,\n",
       "        1.71200001,  3.51300001,  9.41399956,  3.55100012,  2.15899992,\n",
       "        3.26099992,  3.04699993,  1.70899999,  3.06999993,  2.9460001 ,\n",
       "        2.44799995,  4.62900019,  8.72599983,  2.48399997,  2.50699997,\n",
       "        3.01099992,  3.25300002,  2.35500002,  2.69700003,  5.81400013,\n",
       "        2.579     ,  3.63000011,  4.34299994,  3.45099998,  2.67499995,\n",
       "        2.94400001,  4.10599995])"
      ]
     },
     "execution_count": 14,
     "metadata": {},
     "output_type": "execute_result"
    }
   ],
   "source": [
    "pred1"
   ]
  },
  {
   "cell_type": "code",
   "execution_count": null,
   "id": "c51256a5",
   "metadata": {},
   "outputs": [],
   "source": []
  }
 ],
 "metadata": {
  "kernelspec": {
   "display_name": "Python 3 (ipykernel)",
   "language": "python",
   "name": "python3"
  },
  "language_info": {
   "codemirror_mode": {
    "name": "ipython",
    "version": 3
   },
   "file_extension": ".py",
   "mimetype": "text/x-python",
   "name": "python",
   "nbconvert_exporter": "python",
   "pygments_lexer": "ipython3",
   "version": "3.9.7"
  }
 },
 "nbformat": 4,
 "nbformat_minor": 5
}
